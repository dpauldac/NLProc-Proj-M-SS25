{
 "cells": [
  {
   "cell_type": "markdown",
   "id": "2adc507b-6516-487f-97dc-1b5702f73cbe",
   "metadata": {},
   "source": [
    "# Homework Week 2 (Group: Team Oneironauts )\n",
    "Deadline: Freitag, 2. Mai 2025"
   ]
  },
  {
   "cell_type": "markdown",
   "id": "31658300-b3b2-44df-88dd-565950f3a64e",
   "metadata": {},
   "source": [
    "Learning Resource:\n",
    "1. https://www.youtube.com/watch?v=ERibwqs9p38\n",
    "2. https://github.com/facebookresearch/faiss/wiki"
   ]
  },
  {
   "cell_type": "markdown",
   "id": "33e6526f-b36e-4768-9c9a-1b7ca366b8ac",
   "metadata": {},
   "source": [
    "## Task 1. Experiment with Sentence Embeddings\n",
    "* Load sentence-transformers/all-MiniLM-L6-v2.\n",
    "* Encode 5–10 text samples and compare them using cosine similarity\n",
    "* Visualize embeddings using PCA or t-SNE"
   ]
  },
  {
   "cell_type": "markdown",
   "id": "a4b6e840-7408-4796-a1f0-f6c4dd9b4d9b",
   "metadata": {},
   "source": [
    "#### Environment Setup"
   ]
  },
  {
   "cell_type": "code",
   "execution_count": 47,
   "id": "c82bf855-5637-4b6e-a50b-89fb187f2c12",
   "metadata": {
    "scrolled": true
   },
   "outputs": [
    {
     "name": "stdout",
     "output_type": "stream",
     "text": [
      "Defaulting to user installation because normal site-packages is not writeable\n",
      "Requirement already satisfied: sentence-transformers in c:\\users\\pipilika\\appdata\\local\\packages\\pythonsoftwarefoundation.python.3.13_qbz5n2kfra8p0\\localcache\\local-packages\\python313\\site-packages (4.1.0)\n",
      "Requirement already satisfied: scikit-learn in c:\\users\\pipilika\\appdata\\local\\packages\\pythonsoftwarefoundation.python.3.13_qbz5n2kfra8p0\\localcache\\local-packages\\python313\\site-packages (1.6.1)\n",
      "Requirement already satisfied: matplotlib in c:\\users\\pipilika\\appdata\\local\\packages\\pythonsoftwarefoundation.python.3.13_qbz5n2kfra8p0\\localcache\\local-packages\\python313\\site-packages (3.10.1)\n",
      "Requirement already satisfied: faiss-cpu in c:\\users\\pipilika\\appdata\\local\\packages\\pythonsoftwarefoundation.python.3.13_qbz5n2kfra8p0\\localcache\\local-packages\\python313\\site-packages (1.11.0)\n",
      "Requirement already satisfied: transformers<5.0.0,>=4.41.0 in c:\\users\\pipilika\\appdata\\local\\packages\\pythonsoftwarefoundation.python.3.13_qbz5n2kfra8p0\\localcache\\local-packages\\python313\\site-packages (from sentence-transformers) (4.51.3)\n",
      "Requirement already satisfied: tqdm in c:\\users\\pipilika\\appdata\\local\\packages\\pythonsoftwarefoundation.python.3.13_qbz5n2kfra8p0\\localcache\\local-packages\\python313\\site-packages (from sentence-transformers) (4.67.1)\n",
      "Requirement already satisfied: torch>=1.11.0 in c:\\users\\pipilika\\appdata\\local\\packages\\pythonsoftwarefoundation.python.3.13_qbz5n2kfra8p0\\localcache\\local-packages\\python313\\site-packages (from sentence-transformers) (2.7.0)\n",
      "Requirement already satisfied: scipy in c:\\users\\pipilika\\appdata\\local\\packages\\pythonsoftwarefoundation.python.3.13_qbz5n2kfra8p0\\localcache\\local-packages\\python313\\site-packages (from sentence-transformers) (1.15.2)\n",
      "Requirement already satisfied: huggingface-hub>=0.20.0 in c:\\users\\pipilika\\appdata\\local\\packages\\pythonsoftwarefoundation.python.3.13_qbz5n2kfra8p0\\localcache\\local-packages\\python313\\site-packages (from sentence-transformers) (0.30.2)\n",
      "Requirement already satisfied: Pillow in c:\\users\\pipilika\\appdata\\local\\packages\\pythonsoftwarefoundation.python.3.13_qbz5n2kfra8p0\\localcache\\local-packages\\python313\\site-packages (from sentence-transformers) (11.2.1)\n",
      "Requirement already satisfied: typing_extensions>=4.5.0 in c:\\users\\pipilika\\appdata\\local\\packages\\pythonsoftwarefoundation.python.3.13_qbz5n2kfra8p0\\localcache\\local-packages\\python313\\site-packages (from sentence-transformers) (4.13.2)\n",
      "Requirement already satisfied: filelock in c:\\users\\pipilika\\appdata\\local\\packages\\pythonsoftwarefoundation.python.3.13_qbz5n2kfra8p0\\localcache\\local-packages\\python313\\site-packages (from transformers<5.0.0,>=4.41.0->sentence-transformers) (3.18.0)\n",
      "Requirement already satisfied: numpy>=1.17 in c:\\users\\pipilika\\appdata\\local\\packages\\pythonsoftwarefoundation.python.3.13_qbz5n2kfra8p0\\localcache\\local-packages\\python313\\site-packages (from transformers<5.0.0,>=4.41.0->sentence-transformers) (2.2.5)\n",
      "Requirement already satisfied: packaging>=20.0 in c:\\users\\pipilika\\appdata\\local\\packages\\pythonsoftwarefoundation.python.3.13_qbz5n2kfra8p0\\localcache\\local-packages\\python313\\site-packages (from transformers<5.0.0,>=4.41.0->sentence-transformers) (25.0)\n",
      "Requirement already satisfied: pyyaml>=5.1 in c:\\users\\pipilika\\appdata\\local\\packages\\pythonsoftwarefoundation.python.3.13_qbz5n2kfra8p0\\localcache\\local-packages\\python313\\site-packages (from transformers<5.0.0,>=4.41.0->sentence-transformers) (6.0.2)\n",
      "Requirement already satisfied: regex!=2019.12.17 in c:\\users\\pipilika\\appdata\\local\\packages\\pythonsoftwarefoundation.python.3.13_qbz5n2kfra8p0\\localcache\\local-packages\\python313\\site-packages (from transformers<5.0.0,>=4.41.0->sentence-transformers) (2024.11.6)\n",
      "Requirement already satisfied: requests in c:\\users\\pipilika\\appdata\\local\\packages\\pythonsoftwarefoundation.python.3.13_qbz5n2kfra8p0\\localcache\\local-packages\\python313\\site-packages (from transformers<5.0.0,>=4.41.0->sentence-transformers) (2.32.3)\n",
      "Requirement already satisfied: tokenizers<0.22,>=0.21 in c:\\users\\pipilika\\appdata\\local\\packages\\pythonsoftwarefoundation.python.3.13_qbz5n2kfra8p0\\localcache\\local-packages\\python313\\site-packages (from transformers<5.0.0,>=4.41.0->sentence-transformers) (0.21.1)\n",
      "Requirement already satisfied: safetensors>=0.4.3 in c:\\users\\pipilika\\appdata\\local\\packages\\pythonsoftwarefoundation.python.3.13_qbz5n2kfra8p0\\localcache\\local-packages\\python313\\site-packages (from transformers<5.0.0,>=4.41.0->sentence-transformers) (0.5.3)\n",
      "Requirement already satisfied: fsspec>=2023.5.0 in c:\\users\\pipilika\\appdata\\local\\packages\\pythonsoftwarefoundation.python.3.13_qbz5n2kfra8p0\\localcache\\local-packages\\python313\\site-packages (from huggingface-hub>=0.20.0->sentence-transformers) (2025.3.2)\n",
      "Requirement already satisfied: joblib>=1.2.0 in c:\\users\\pipilika\\appdata\\local\\packages\\pythonsoftwarefoundation.python.3.13_qbz5n2kfra8p0\\localcache\\local-packages\\python313\\site-packages (from scikit-learn) (1.4.2)\n",
      "Requirement already satisfied: threadpoolctl>=3.1.0 in c:\\users\\pipilika\\appdata\\local\\packages\\pythonsoftwarefoundation.python.3.13_qbz5n2kfra8p0\\localcache\\local-packages\\python313\\site-packages (from scikit-learn) (3.6.0)\n",
      "Requirement already satisfied: contourpy>=1.0.1 in c:\\users\\pipilika\\appdata\\local\\packages\\pythonsoftwarefoundation.python.3.13_qbz5n2kfra8p0\\localcache\\local-packages\\python313\\site-packages (from matplotlib) (1.3.2)\n",
      "Requirement already satisfied: cycler>=0.10 in c:\\users\\pipilika\\appdata\\local\\packages\\pythonsoftwarefoundation.python.3.13_qbz5n2kfra8p0\\localcache\\local-packages\\python313\\site-packages (from matplotlib) (0.12.1)\n",
      "Requirement already satisfied: fonttools>=4.22.0 in c:\\users\\pipilika\\appdata\\local\\packages\\pythonsoftwarefoundation.python.3.13_qbz5n2kfra8p0\\localcache\\local-packages\\python313\\site-packages (from matplotlib) (4.57.0)\n",
      "Requirement already satisfied: kiwisolver>=1.3.1 in c:\\users\\pipilika\\appdata\\local\\packages\\pythonsoftwarefoundation.python.3.13_qbz5n2kfra8p0\\localcache\\local-packages\\python313\\site-packages (from matplotlib) (1.4.8)\n",
      "Requirement already satisfied: pyparsing>=2.3.1 in c:\\users\\pipilika\\appdata\\local\\packages\\pythonsoftwarefoundation.python.3.13_qbz5n2kfra8p0\\localcache\\local-packages\\python313\\site-packages (from matplotlib) (3.2.3)\n",
      "Requirement already satisfied: python-dateutil>=2.7 in c:\\users\\pipilika\\appdata\\local\\packages\\pythonsoftwarefoundation.python.3.13_qbz5n2kfra8p0\\localcache\\local-packages\\python313\\site-packages (from matplotlib) (2.9.0.post0)\n",
      "Requirement already satisfied: six>=1.5 in c:\\users\\pipilika\\appdata\\local\\packages\\pythonsoftwarefoundation.python.3.13_qbz5n2kfra8p0\\localcache\\local-packages\\python313\\site-packages (from python-dateutil>=2.7->matplotlib) (1.17.0)\n",
      "Requirement already satisfied: sympy>=1.13.3 in c:\\users\\pipilika\\appdata\\local\\packages\\pythonsoftwarefoundation.python.3.13_qbz5n2kfra8p0\\localcache\\local-packages\\python313\\site-packages (from torch>=1.11.0->sentence-transformers) (1.14.0)\n",
      "Requirement already satisfied: networkx in c:\\users\\pipilika\\appdata\\local\\packages\\pythonsoftwarefoundation.python.3.13_qbz5n2kfra8p0\\localcache\\local-packages\\python313\\site-packages (from torch>=1.11.0->sentence-transformers) (3.4.2)\n",
      "Requirement already satisfied: jinja2 in c:\\users\\pipilika\\appdata\\local\\packages\\pythonsoftwarefoundation.python.3.13_qbz5n2kfra8p0\\localcache\\local-packages\\python313\\site-packages (from torch>=1.11.0->sentence-transformers) (3.1.6)\n",
      "Requirement already satisfied: setuptools in c:\\users\\pipilika\\appdata\\local\\packages\\pythonsoftwarefoundation.python.3.13_qbz5n2kfra8p0\\localcache\\local-packages\\python313\\site-packages (from torch>=1.11.0->sentence-transformers) (80.0.0)\n",
      "Requirement already satisfied: mpmath<1.4,>=1.1.0 in c:\\users\\pipilika\\appdata\\local\\packages\\pythonsoftwarefoundation.python.3.13_qbz5n2kfra8p0\\localcache\\local-packages\\python313\\site-packages (from sympy>=1.13.3->torch>=1.11.0->sentence-transformers) (1.3.0)\n",
      "Requirement already satisfied: colorama in c:\\users\\pipilika\\appdata\\local\\packages\\pythonsoftwarefoundation.python.3.13_qbz5n2kfra8p0\\localcache\\local-packages\\python313\\site-packages (from tqdm->sentence-transformers) (0.4.6)\n",
      "Requirement already satisfied: MarkupSafe>=2.0 in c:\\users\\pipilika\\appdata\\local\\packages\\pythonsoftwarefoundation.python.3.13_qbz5n2kfra8p0\\localcache\\local-packages\\python313\\site-packages (from jinja2->torch>=1.11.0->sentence-transformers) (3.0.2)\n",
      "Requirement already satisfied: charset-normalizer<4,>=2 in c:\\users\\pipilika\\appdata\\local\\packages\\pythonsoftwarefoundation.python.3.13_qbz5n2kfra8p0\\localcache\\local-packages\\python313\\site-packages (from requests->transformers<5.0.0,>=4.41.0->sentence-transformers) (3.4.1)\n",
      "Requirement already satisfied: idna<4,>=2.5 in c:\\users\\pipilika\\appdata\\local\\packages\\pythonsoftwarefoundation.python.3.13_qbz5n2kfra8p0\\localcache\\local-packages\\python313\\site-packages (from requests->transformers<5.0.0,>=4.41.0->sentence-transformers) (3.10)\n",
      "Requirement already satisfied: urllib3<3,>=1.21.1 in c:\\users\\pipilika\\appdata\\local\\packages\\pythonsoftwarefoundation.python.3.13_qbz5n2kfra8p0\\localcache\\local-packages\\python313\\site-packages (from requests->transformers<5.0.0,>=4.41.0->sentence-transformers) (2.4.0)\n",
      "Requirement already satisfied: certifi>=2017.4.17 in c:\\users\\pipilika\\appdata\\local\\packages\\pythonsoftwarefoundation.python.3.13_qbz5n2kfra8p0\\localcache\\local-packages\\python313\\site-packages (from requests->transformers<5.0.0,>=4.41.0->sentence-transformers) (2025.4.26)\n"
     ]
    }
   ],
   "source": [
    "!pip install sentence-transformers scikit-learn matplotlib faiss-cpu"
   ]
  },
  {
   "cell_type": "markdown",
   "id": "ffbe1f24-5533-4d13-8de5-38e90775867d",
   "metadata": {},
   "source": [
    "#### Load sentence-transformers/all-MiniLM-L6-v2"
   ]
  },
  {
   "cell_type": "code",
   "execution_count": 2,
   "id": "4e8ff4d5-37a1-48ae-9702-0ddd3687a277",
   "metadata": {},
   "outputs": [],
   "source": [
    "from sentence_transformers import SentenceTransformer\n",
    "#Load the model\n",
    "model = SentenceTransformer('sentence-transformers/all-MiniLM-L6-v2')"
   ]
  },
  {
   "cell_type": "markdown",
   "id": "beb343a7-4269-4ee6-8b3f-d085b607a2c5",
   "metadata": {},
   "source": [
    "#### Encode 5–10 text samples"
   ]
  },
  {
   "cell_type": "code",
   "execution_count": null,
   "id": "bcbb764e-596b-4c60-bea4-c278e035758e",
   "metadata": {},
   "outputs": [],
   "source": [
    "#sample senetence\n",
    "sentences = [\n",
    "    \"Winnie the Pooh is always optimistic.\",\n",
    "    \"Eeyore, the donkey, is gloomy and sad.\",\n",
    "    \"Piglet is a small, timid friend of Pooh.\",\n",
    "    \"Rabbit is often annoyed by Pooh's antics.\",\n",
    "    \"Who is the saddest character in the story?\",\n",
    "    \"Eeyore frequently loses his tail, because they are the donkey\",\n",
    "    \"Christopher Robin admires Pooh's simplicity.\",\n",
    "    \"Eeyore, sometimes remains unhappy.\",\n",
    "]\n",
    "embeddings = model.encode(sentences)"
   ]
  },
  {
   "cell_type": "code",
   "execution_count": 130,
   "id": "5cf32187-e12a-45d5-b634-4f10f51fcb6b",
   "metadata": {},
   "outputs": [
    {
     "data": {
      "text/plain": [
       "array([[ 0.05246369,  0.03165577,  0.04247507, ...,  0.01905944,\n",
       "         0.04841616, -0.01552041],\n",
       "       [ 0.02238098,  0.07455521,  0.05924227, ...,  0.01068406,\n",
       "         0.0892169 ,  0.04389978],\n",
       "       [ 0.08214699,  0.00263178,  0.02935125, ..., -0.00242197,\n",
       "         0.02554304, -0.0564134 ],\n",
       "       ...,\n",
       "       [ 0.03308733,  0.06873304,  0.09401479, ...,  0.00771058,\n",
       "         0.09662201,  0.03418516],\n",
       "       [ 0.01697342,  0.02757328,  0.02461449, ...,  0.02233502,\n",
       "         0.04633326,  0.01219021],\n",
       "       [ 0.03363945,  0.05922337,  0.02249077, ..., -0.02602914,\n",
       "         0.09882358,  0.05163597]], shape=(8, 384), dtype=float32)"
      ]
     },
     "execution_count": 130,
     "metadata": {},
     "output_type": "execute_result"
    }
   ],
   "source": [
    "embeddings"
   ]
  },
  {
   "cell_type": "markdown",
   "id": "8fbdfc5b-cef7-4fd0-92bb-23f8d3e0e51f",
   "metadata": {},
   "source": [
    "#### Comparing sentences using cosine similarity"
   ]
  },
  {
   "cell_type": "code",
   "execution_count": 131,
   "id": "9cb30502-da54-4b00-a838-337cf38c4d7d",
   "metadata": {},
   "outputs": [
    {
     "data": {
      "text/plain": [
       "array([[1.        , 0.43644476, 0.3846054 , 0.48267874, 0.2626438 ,\n",
       "        0.30682245, 0.544978  , 0.38471884],\n",
       "       [0.43644476, 1.        , 0.23415153, 0.34988207, 0.46333042,\n",
       "        0.6463961 , 0.2867701 , 0.70262337],\n",
       "       [0.3846054 , 0.23415153, 1.0000002 , 0.5629573 , 0.24467942,\n",
       "        0.2432213 , 0.4264778 , 0.20844004],\n",
       "       [0.48267874, 0.34988207, 0.5629573 , 1.        , 0.2589264 ,\n",
       "        0.3425907 , 0.55000365, 0.26746225],\n",
       "       [0.2626438 , 0.46333042, 0.24467942, 0.2589264 , 0.9999999 ,\n",
       "        0.21862356, 0.28391963, 0.36298895],\n",
       "       [0.30682245, 0.6463961 , 0.2432213 , 0.3425907 , 0.21862356,\n",
       "        1.        , 0.22332102, 0.5112237 ],\n",
       "       [0.544978  , 0.2867701 , 0.4264778 , 0.55000365, 0.28391963,\n",
       "        0.22332102, 1.        , 0.19497366],\n",
       "       [0.38471884, 0.70262337, 0.20844004, 0.26746225, 0.36298895,\n",
       "        0.5112237 , 0.19497366, 1.0000002 ]], dtype=float32)"
      ]
     },
     "execution_count": 131,
     "metadata": {},
     "output_type": "execute_result"
    }
   ],
   "source": [
    "from sklearn.metrics.pairwise import cosine_similarity\n",
    "similarity_matrix = cosine_similarity(embeddings)\n",
    "similarity_matrix"
   ]
  },
  {
   "cell_type": "markdown",
   "id": "53c8981c-1719-4b56-b75e-5fa8a5bd4318",
   "metadata": {
    "jp-MarkdownHeadingCollapsed": true
   },
   "source": [
    "#### Visualize embeddings using PCA"
   ]
  },
  {
   "cell_type": "code",
   "execution_count": 132,
   "id": "b9189ce8-bba4-47e5-bda0-d56872ca901d",
   "metadata": {},
   "outputs": [],
   "source": [
    "from sklearn.decomposition import PCA\n",
    "pca = PCA(n_components=2)\n",
    "embeddings_2d = pca.fit_transform(embeddings)"
   ]
  },
  {
   "cell_type": "code",
   "execution_count": 82,
   "id": "ac01c8e0-046f-4c6f-8d9a-0cad32e6cb35",
   "metadata": {},
   "outputs": [
    {
     "data": {
      "text/plain": [
       "array([[ 0.21813168,  0.10861173],\n",
       "       [-0.4934611 ,  0.04261726],\n",
       "       [ 0.47091436,  0.04613997],\n",
       "       [ 0.4187394 ,  0.15991898],\n",
       "       [-0.16505   , -0.7752747 ],\n",
       "       [-0.41453403,  0.40636426],\n",
       "       [ 0.4859895 , -0.04451013],\n",
       "       [-0.5207299 ,  0.05613253]], dtype=float32)"
      ]
     },
     "execution_count": 82,
     "metadata": {},
     "output_type": "execute_result"
    }
   ],
   "source": [
    "embeddings_2d"
   ]
  },
  {
   "cell_type": "code",
   "execution_count": 83,
   "id": "496c3876-f405-4cc9-b269-8fff74da6ac0",
   "metadata": {},
   "outputs": [
    {
     "data": {
      "image/png": "[encoded data removed]",
      "text/plain": [
       "<Figure size 640x480 with 1 Axes>"
      ]
     },
     "metadata": {},
     "output_type": "display_data"
    }
   ],
   "source": [
    "import matplotlib.pyplot as plt\n",
    "plt.scatter(embeddings_2d[:,0], embeddings_2d[:,1])\n",
    "for i, txt in enumerate(sentences):\n",
    "    plt.annotate(f\"{i}\", (embeddings_2d[i, 0], embeddings_2d[i, 1]))\n",
    "plt.title(\"PCA of Sentence Embeddings\")\n",
    "plt.show()"
   ]
  },
  {
   "cell_type": "markdown",
   "id": "d7ea654e-60dd-418a-bc5a-2b2dcc0b6266",
   "metadata": {},
   "source": [
    "Observation: sentences related to Pooh are together (0, 2, 3, 6). Sentences related to Eeyore are closer too (1 and 5). Sentence 4 is different, so its alone."
   ]
  },
  {
   "cell_type": "markdown",
   "id": "e5da4599-d238-4e69-9509-0b6d9edfbe5d",
   "metadata": {},
   "source": [
    "## Task 2. Try out FAISS for Similarity Search\n",
    "◦Store your embedded text chunks in a FAISS index\n",
    "◦Query it with different formulations of the same question and print top-k matching chunks. Describe\n",
    "the difference in performance and a possible explanation for your observations."
   ]
  },
  {
   "cell_type": "markdown",
   "id": "9d68c3ee-578b-4c96-88a9-c4ba6f2b6d2e",
   "metadata": {},
   "source": [
    "#### Store your embedded text chunks in a FAISS index"
   ]
  },
  {
   "cell_type": "code",
   "execution_count": 84,
   "id": "335f3669-b368-4d8a-bf0b-98ffdb747191",
   "metadata": {},
   "outputs": [
    {
     "data": {
      "text/plain": [
       "<faiss.swigfaiss_avx2.IndexFlatL2; proxy of <Swig Object of type 'faiss::IndexFlatL2 *' at 0x000001FE80BC64C0> >"
      ]
     },
     "execution_count": 84,
     "metadata": {},
     "output_type": "execute_result"
    }
   ],
   "source": [
    "import faiss\n",
    "import numpy as np\n",
    "#create FAISS index\n",
    "dimension = embeddings.shape[1]\n",
    "index = faiss.IndexFlatL2(dimension)\n",
    "index.add(embeddings)\n",
    "index"
   ]
  },
  {
   "cell_type": "markdown",
   "id": "e9183e43-d0df-4771-ae01-6a134e9c99b9",
   "metadata": {},
   "source": [
    "#### Query it with different formulations of the same question and print top-k matching chunks. Describe"
   ]
  },
  {
   "cell_type": "code",
   "execution_count": 120,
   "id": "eeba1631-60b4-4e69-853f-ee4c427f10f2",
   "metadata": {},
   "outputs": [],
   "source": [
    "# Query variations\n",
    "queries = [\n",
    "    \"Who is always sad?\",       # Direct match\n",
    "    \"Which character is gloomy?\",  # Synonym\n",
    "    \"Who is not happy?\", # similar meaning like above\n",
    "    \"Is Eeyore not happy?\", # similar meaning like above\n",
    "    \"Who has a negative attitude?\",  # Abstract\n",
    "    \"Who is always having bad mood?\",  # Similar meaning like the abstract\n",
    "]"
   ]
  },
  {
   "cell_type": "code",
   "execution_count": 119,
   "id": "f7c91a56-9a33-4ed7-8e5f-1185c56fb2ce",
   "metadata": {},
   "outputs": [
    {
     "name": "stdout",
     "output_type": "stream",
     "text": [
      "\n",
      "Query: 'Who is always sad?'\n",
      "Top matches:\n",
      "0- Who is the saddest character in the story? (Similarity: 0.17)\n",
      "1- Eeyore, the donkey, is gloomy and sad. (Similarity: -0.16)\n",
      "2- Eeyore, sometimes remains unhappy. (Similarity: -0.18)\n",
      "\n",
      "Query: 'Which character is gloomy?'\n",
      "Top matches:\n",
      "0- Eeyore, the donkey, is gloomy and sad. (Similarity: 0.31)\n",
      "1- Who is the saddest character in the story? (Similarity: 0.24)\n",
      "2- Eeyore, sometimes remains unhappy. (Similarity: -0.11)\n",
      "\n",
      "Query: 'Who is not happy?'\n",
      "Top matches:\n",
      "0- Eeyore, sometimes remains unhappy. (Similarity: -0.11)\n",
      "1- Who is the saddest character in the story? (Similarity: -0.20)\n",
      "2- Eeyore, the donkey, is gloomy and sad. (Similarity: -0.32)\n",
      "\n",
      "Query: 'Is Eeyore not happy?'\n",
      "Top matches:\n",
      "0- Eeyore, sometimes remains unhappy. (Similarity: 0.60)\n",
      "1- Eeyore, the donkey, is gloomy and sad. (Similarity: 0.30)\n",
      "2- Eeyore frequently loses his tail, because they are the donkey (Similarity: 0.12)\n",
      "\n",
      "Query: 'Who has a negative attitude?'\n",
      "Top matches:\n",
      "0- Who is the saddest character in the story? (Similarity: -0.48)\n",
      "1- Eeyore, sometimes remains unhappy. (Similarity: -0.48)\n",
      "2- Eeyore, the donkey, is gloomy and sad. (Similarity: -0.50)\n",
      "\n",
      "Query: 'Who is always having bad mood?'\n",
      "Top matches:\n",
      "0- Eeyore, sometimes remains unhappy. (Similarity: -0.14)\n",
      "1- Who is the saddest character in the story? (Similarity: -0.22)\n",
      "2- Eeyore, the donkey, is gloomy and sad. (Similarity: -0.36)\n"
     ]
    }
   ],
   "source": [
    "for query in queries:\n",
    "    query_embedding = model.encode([query])\n",
    "    # K=2, so considering Top-2 matches\n",
    "    D, I = index.search(query_embedding, k=3)\n",
    "    print(f\"\\nQuery: '{query}'\\nTop matches:\")\n",
    "    for count, idx in enumerate(I[0], start=0):\n",
    "        print(f\"{count}- {sentences[idx]} (Similarity: {1 - D[0][count]:.2f})\")"
   ]
  },
  {
   "cell_type": "markdown",
   "id": "c8f065e2-ea3c-46b5-a28c-d73b5f1e96f9",
   "metadata": {},
   "source": [
    "### Explanation for the Observations"
   ]
  },
  {
   "cell_type": "markdown",
   "id": "811df056-1823-40b7-a8e3-28fcd1fe8091",
   "metadata": {},
   "source": [
    "#### Explanation of the outputs\n",
    "\n",
    "1.  **Query:** \"Who is always sad?\"\n",
    "    \n",
    "    **Top Matches:**\n",
    "    * 1. \"Who is the saddest character in the story?\" (Similarity: 0.17)\n",
    "    * 2. \"Eeyore, the donkey, is gloomy and sad.\" (Similarity: -0.16)\n",
    "    * 3. \"Eeyore, sometimes remains unhappy.\" (Similarity: -0.18)\n",
    "\n",
    "    ##### Explanation:\n",
    "    * Match 1 (question format): The embedding model recognizes that questions about sadness (\"saddest\") align with the query’s intent (\"always sad\"). \n",
    "    * Match 2: Direct keyword overlap (\"sad\") ensures relevance. \n",
    "    * Match 3: The word \"unhappy\" is a synonym for \"sad\", but the phrasing difference (\"sometimes\" vs. \"always\") lowers similarity. \n",
    "\n",
    "\n",
    "2.  **Query:** \"Which character is gloomy?\"\n",
    "    \n",
    "    **Top Matches:**\n",
    "    * 1. \"Eeyore, the donkey, is gloomy and sad.\" (Similarity: 0.31)\n",
    "    * 2. \"Who is the saddest character in the story?\" (Similarity: 0.24)\n",
    "    * 3. \"Eeyore, sometimes remains unhappy.\" (Similarity: -0.11)\n",
    "\n",
    "    ##### Explanation:\n",
    "    * Match 1: Exact keyword match (\"gloomy\") ensures high relevance.\n",
    "    * Match 2: Semantic link between \"gloomy\" and \"saddest\" (both describe negative emotions).\n",
    "    * Match 3: Weak connection due to synonymity (\"unhappy\" ≈ \"gloomy\") but lower similarity score.\n",
    "\n",
    "\n",
    "3.  **Query:** \"Who is not happy?\"\n",
    "    \n",
    "    **Top Matches:**\n",
    "    * 1. \"Eeyore, sometimes remains unhappy.\"\n",
    "    * 2. \"Who is the saddest character in the story?\"\n",
    "    * 3. \"Eeyore, the donkey, is gloomy and sad.\"\n",
    "\n",
    "    ##### Explanation:\n",
    "    * Match 1: \"not happy\" directly maps to \"unhappy\".\n",
    "    * Match 2 and 3: Indirect connections via sadness (\"saddest\", \"sad\"). The negation (\"not happy\") isn’t strongly captured by the embeddings, reducing confidence.\n",
    "\n",
    "\n",
    "4.  **Query:** \"Is Eeyore not happy?\"\n",
    "    \n",
    "    **Top Matches:**\n",
    "    * 1. \"Eeyore, sometimes remains unhappy.\"\n",
    "    * 2. \"Eeyore, the donkey, is gloomy and sad.\"\n",
    "    * 3. \"Eeyore frequently loses his tail...\"\n",
    "\n",
    "    ##### Explanation:\n",
    "    * Match 1: Strong match due to \"Eeyore\" + \"unhappy\".\n",
    "    * Match 2: Secondary match via \"sad\".\n",
    "    * Match 3: Only shares the keyword \"Eeyore\" (no emotional context), leading to a low score.\n",
    "\n",
    "\n",
    "5.  **Query:** \"Who has a negative attitude?\"\n",
    "    \n",
    "    **Top Matches:**\n",
    "    * 1. \"Who is the saddest character in the story?\"\n",
    "    * 2. \"Eeyore, sometimes remains unhappy.\"\n",
    "    * 3. \"Eeyore, the donkey, is gloomy and sad.\"\n",
    "\n",
    "    ##### Explanation:\n",
    "    * Abstract Phrasing: \"negative attitude\" isn’t explicitly in any chunk. The model weakly associates it with \"saddest\"/\"unhappy\".\n",
    "    * Poor Scores: The embeddings struggle with abstract concepts not present in the text.\n",
    "\n",
    "\n",
    "6.  **Query:** \"Who is always having bad mood?\"\n",
    "    \n",
    "    **Top Matches:**\n",
    "    * 1. \"Eeyore, sometimes remains unhappy.\"\n",
    "    * 2. \"Who is the saddest character...\"\n",
    "    * 3. \"Eeyore, the donkey, is gloomy and sad.\"\n",
    "\n",
    "    ##### Explanation:\n",
    "    * Phrasing Mismatch: \"bad mood\" ≈ \"unhappy\"/\"sad\", but \"always having\" conflicts with \"sometimes remains\".\n",
    "    * Weak Scores: The model doesn’t fully align temporal adverbs (\"always\" vs. \"sometimes\")."
   ]
  },
  {
   "cell_type": "markdown",
   "id": "2ff7eb87-5b4a-4587-bd65-79329285b3e7",
   "metadata": {},
   "source": [
    "#### Key Observations on Semantic Matching\n",
    "\n",
    "**1. Semantic vs. Keyword Matching:**\n",
    "\n",
    "* **Strong Keyword Matches:** Exact keyword matches (e.g., \"gloomy\", \"unhappy\") consistently result in the strongest and most relevant matches.\n",
    "* **Synonym Recognition:** The embedding model demonstrates an understanding of synonyms (e.g., \"sad\" and \"unhappy\"), leading to relevant results, although often with slightly lower confidence compared to exact keyword matches.\n",
    "* **Challenges with Abstraction:** Abstract phrases that lack direct vocabulary overlap in the indexed text (e.g., \"negative attitude\") tend to perform poorly. The embedding model struggles to bridge the gap when the specific terms are absent.\n",
    "\n",
    "**2. Question vs. Statement:**\n",
    "\n",
    "* **Alignment of Question Forms:** Queries formulated as questions (e.g., \"Who is the saddest...\") tend to align well with other questions in the indexed data, suggesting the model captures some structural or intentional similarity.\n",
    "\n",
    "**In essence:**\n",
    "\n",
    "* While the embedding model exhibits semantic understanding by recognizing synonyms, the strongest performance is still often driven by direct keyword overlap.\n",
    "* Abstract concepts pose a challenge if the specific vocabulary isn't present in the indexed content, highlighting the limitations of relying solely on semantic similarity without explicit textual grounding.\n",
    "* The model appears to capture some level of similarity based on the grammatical structure or intent conveyed by question formats."
   ]
  },
  {
   "cell_type": "markdown",
   "id": "7562ede9-0fb4-4939-929c-5a4192f3a043",
   "metadata": {},
   "source": [
    "## Task 3: Summary on how vector search works"
   ]
  },
  {
   "cell_type": "code",
   "execution_count": null,
   "id": "b459b62e-d012-4f03-ba19-a6ec98f46c42",
   "metadata": {},
   "outputs": [],
   "source": []
  },
  {
   "cell_type": "markdown",
   "id": "d6fd0700-785f-4f51-afb0-259077167fef",
   "metadata": {},
   "source": [
    "**Vector search** (or *semantic search*) is a technique to find information by comparing **numerical representations** (vectors) of data, rather than relying on exact keywords. It allows systems to understand the *meaning* or *context* behind queries and retrieve results based on **semantic similarity**. Here’s a simple breakdown:\n",
    "\n",
    "#### **How It Works**\n",
    "1. **Convert Data to Vectors**:  \n",
    "   - Text, images, or other data are transformed into **vectors** (arrays of numbers) using machine learning models (e.g., `all-MiniLM-L6-v2`).  \n",
    "   - Example:  \n",
    "     - Sentence: *\"Eeyore is gloomy and sad.\"* → Vector: `[0.2, -0.5, 0.7, ...]` (384 numbers).  \n",
    "\n",
    "2. **Index Vectors for Search**:  \n",
    "   - Vectors are stored in an optimized structure (e.g., **FAISS**) to enable fast similarity calculations.  \n",
    "\n",
    "3. **Query with a Vector**:  \n",
    "   - When you ask a question (e.g., *\"Who is always sad?\"*), it’s converted into a vector.  \n",
    "   - The system searches for vectors in the index that are \"closest\" to the query vector using metrics like **cosine similarity** or **Euclidean distance**.  \n",
    "\n",
    "4. **Return Matches**:  \n",
    "   - The most similar vectors correspond to the most relevant results (e.g., text chunks about Eeyore’s sadness).  \n",
    "\n",
    "\n",
    "#### **Example: Winnie the Pooh**\n",
    "- **Query**: *\"Who is unhappy?\"*  \n",
    "- **Matches**:  \n",
    "  - *\"Eeyore, the donkey, is gloomy and sad.\"* (high similarity).  \n",
    "  - *\"Eeyore sometimes remains unhappy.\"* (moderate similarity).  \n",
    "\n",
    "Even though \"unhappy\" isn’t in the first sentence, the vectors for \"sad\" and \"unhappy\" are close in the embedding space, so the system retrieves both.  "
   ]
  },
  {
   "cell_type": "code",
   "execution_count": null,
   "id": "5bba72f8-48c7-4645-9593-9adfc8bbe9f1",
   "metadata": {},
   "outputs": [],
   "source": [
    "--"
   ]
  },
  {
   "cell_type": "code",
   "execution_count": null,
   "id": "6ed46176-8bb2-4263-a28c-37837c45b090",
   "metadata": {},
   "outputs": [],
   "source": []
  }
 ],
 "metadata": {
  "kernelspec": {
   "display_name": "Python 3 (ipykernel)",
   "language": "python",
   "name": "python3"
  },
  "language_info": {
   "codemirror_mode": {
    "name": "ipython",
    "version": 3
   },
   "file_extension": ".py",
   "mimetype": "text/x-python",
   "name": "python",
   "nbconvert_exporter": "python",
   "pygments_lexer": "ipython3",
   "version": "3.13.3"
  }
 },
 "nbformat": 4,
 "nbformat_minor": 5
}
